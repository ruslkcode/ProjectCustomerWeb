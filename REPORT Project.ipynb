{
 "cells": [
  {
   "cell_type": "markdown",
   "id": "5b185479-7ac3-436f-a7b7-e280263cb115",
   "metadata": {},
   "source": [
    "## Step 7: Feature Engineering\n",
    "\n",
    "So far, your model has been using **all available features** to make predictions.  \n",
    "However, not every feature necessarily helps the model - some may be **irrelevant** or even **harmful** to prediction quality.\n",
    "\n",
    "In this step, you'll explore how **feature selection** affects your model's performance.  \n",
    "Use your understanding of the data (from SQL exploration or domain knowledge) to decide which features to keep or remove.\n",
    "\n",
    "### Your task:\n",
    "- Experiment with **different subsets of features** and observe how the model’s performance changes (e.g., lower MAE for regression).\n",
    "- Clearly explain **why** you chose to include or exclude certain features.\n",
    "- Report and discuss **how these choices impacted** your KNN model’s results.\n",
    "\n",
    "> This step is **unguided**, you have full freedom in how you approach it,  \n",
    "> but make sure your reasoning and results are well-documented in your notebook.\n"
   ]
  },
  {
   "cell_type": "code",
   "execution_count": null,
   "id": "30d28833-3f6d-43a3-8b1a-975fda5a5a47",
   "metadata": {},
   "outputs": [],
   "source": [
    "# your code and explanations can be added in the cells below.."
   ]
  }
 ],
 "metadata": {
  "kernelspec": {
   "display_name": "Python 3 (ipykernel)",
   "language": "python",
   "name": "python3"
  }
 },
 "nbformat": 4,
 "nbformat_minor": 5
}
